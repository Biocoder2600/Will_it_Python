{
 "metadata": {
  "name": "chapter1"
 },
 "nbformat": 3,
 "nbformat_minor": 0,
 "worksheets": [
  {
   "cells": [
    {
     "cell_type": "heading",
     "level": 1,
     "metadata": {},
     "source": [
      "Will It Python\n"
     ]
    },
    {
     "cell_type": "markdown",
     "metadata": {},
     "source": [
      "http://slendrmeans.wordpress.com/2012/04/14/will-it-python-machine-learning-for-hackers-chapter-1-part-1-loading-the-data/"
     ]
    },
    {
     "cell_type": "markdown",
     "metadata": {},
     "source": [
      "This script is a Python port of the R code in Chapter 1 of _Machine Learning\n",
      "for Hackers_ by D. Conway and J.M. White. It is mainly intended to be run via\n",
      "the interactive shell, though that's not necessary.\n",
      "\n",
      "The script will produce (1) a cleaned tab-separated file of the UFO data;\n",
      "(2) a series of 4 PNG figures.\n",
      "\n",
      "The UFO dataset (approx. 75MB tab-separated file) should be located in a\n",
      "/data/ufo subfolder of the working directory. Otherwise, change the `inpath`\n",
      "and `outpath` variables at the start of the file.\n",
      "\n",
      "For a detailed description of the analysis and the process of porting it\n",
      "to Python, see: slendrmeans.wordpress.com/will-it-python.\n"
     ]
    },
    {
     "cell_type": "code",
     "collapsed": false,
     "input": [
      "''''\n",
      "-------------------------------------------------------------------------------\n",
      "Filename   : ch1.py\n",
      "Date       : 2012-04-16\n",
      "Author     : C. Vogel\n",
      "Purpose    : Replicate analysis of UFO data in Chapter 1 of _Machine Learning\n",
      "           : for Hackers_.\n",
      "Input Data : ufo_awesome.csv is available at the book's github repository at\n",
      "           : https://github.com/johnmyleswhite/ML_for_Hackers.git\n",
      "Libraries  : Numpy 1.6.1, Matplotlib 1.1.0, Pandas 0.7.3\n",
      "-------------------------------------------------------------------------------\n",
      "\n",
      "This script is a Python port of the R code in Chapter 1 of _Machine Learning\n",
      "for Hackers_ by D. Conway and J.M. White. It is mainly intended to be run via\n",
      "the interactive shell, though that's not necessary.\n",
      "\n",
      "The script will produce (1) a cleaned tab-separated file of the UFO data;\n",
      "(2) a series of 4 PNG figures.\n",
      "\n",
      "The UFO dataset (approx. 75MB tab-separated file) should be located in a\n",
      "/data/ufo subfolder of the working directory. Otherwise, change the `inpath`\n",
      "and `outpath` variables at the start of the file.\n",
      "\n",
      "For a detailed description of the analysis and the process of porting it\n",
      "to Python, see: slendrmeans.wordpress.com/will-it-python.\n",
      "'''\n",
      "\n",
      "\n",
      "import numpy as np\n",
      "from pandas import *\n",
      "import matplotlib.pyplot as plt\n",
      "import datetime as dt\n",
      "import time\n",
      "import re"
     ],
     "language": "python",
     "metadata": {},
     "outputs": [],
     "prompt_number": 1
    },
    {
     "cell_type": "markdown",
     "metadata": {},
     "source": [
      "####The location of the UFO raw data"
     ]
    },
    {
     "cell_type": "code",
     "collapsed": false,
     "input": [
      "inpath = '/Users/antigen/dev/ML_for_Hackers/slides/01-Slides/ls/ufo_awesome.tsv'"
     ],
     "language": "python",
     "metadata": {},
     "outputs": [],
     "prompt_number": 2
    },
    {
     "cell_type": "markdown",
     "metadata": {},
     "source": [
      "####Fixing extra columns in the raw data"
     ]
    },
    {
     "cell_type": "code",
     "collapsed": false,
     "input": [
      "# Pandas' read_table function gives an error reading the raw data file\n",
      "# `ufo_awesome.tsv`. It turns out there are extra tabs in some of the fields,\n",
      "# generating extra (>6) columns.\n",
      "\n",
      "# A test: read lines from the file until we reach a line with more than 6\n",
      "# tab-separated columns. Then print the line. I use enumerate() to identify\n",
      "# the bad line and its columns.\n",
      "# This 7th column of this bad line corresponds to the first bad date\n",
      "# column in the text. (Indicating R pushes the extra columns to new lines\n",
      "# to a new row).\n",
      "\n",
      "inf = open(inpath, 'r')\n",
      "for i, line in enumerate(inf):\n",
      "    splitline = line.split('\\t')\n",
      "    if len(splitline) != 6:\n",
      "        first_bad_line = splitline\n",
      "        print \"First bad row:\", i\n",
      "        for j, col in enumerate(first_bad_line):\n",
      "            print j, col\n",
      "        break\n",
      "inf.close()\n",
      "\n",
      "# The location of a cleaned version of the data, where the extra\n",
      "# columns are eliminated. Output of the function `ufo_tab_to_sixcols` below.\n",
      "outpath = '/Users/antigen/Desktop/ufo_awesome_6col.tsv'"
     ],
     "language": "python",
     "metadata": {},
     "outputs": [
      {
       "output_type": "stream",
       "stream": "stdout",
       "text": [
        "First bad row: 754\n",
        "0 19950704\n",
        "1 19950706\n",
        "2  Orlando, FL\n",
        "3 \n",
        "4 4-5 min\n",
        "5 I would like to report three yellow oval lights which passed over Orlando,Florida on July 4, 1995 at aproximately 21:30 (9:30 pm). These were the sizeof Venus (which they passed close by). Two of them traveled one after the otherat exactly the same speed and path heading south-southeast. The third oneappeared about a minute later following the same path as the other two. Thewhole sighting lasted about 4-5 minutes. There were 4 other witnesses oldenough to report the sighting. My 4 year old and 5 year old children were theones who called my attention to the &quot;moving stars&quot;. These objects moved fasterthan an airplane and did not resemble an aircraft, and were moving much slowerthan a shooting star. As for them being fireworks, their path was too regularand coordinated. If anybody else saw this phenomenon, please contact me at:\n",
        "6 ler@gnv.ifas.ufl.edu\n",
        "\n"
       ]
      }
     ],
     "prompt_number": 3
    },
    {
     "cell_type": "code",
     "collapsed": false,
     "input": [
      "def ufotab_to_sixcols(inpath, outpath):\n",
      "    '''\n",
      "    Keep only the first 6 columns of data from messy UFO TSV file.\n",
      "\n",
      "    The UFO data set is only supposed to have six columns. But...\n",
      "\n",
      "    The sixth column is a long written description of the UFO sighting, and\n",
      "    sometimes is broken by tab characters which create extra columns.\n",
      "\n",
      "    For these records, we only keep the first six columns. This typically cuts\n",
      "    off some of the long description.\n",
      "\n",
      "    Sometimes a line has less than six columns. These are not written to\n",
      "    the output file (i.e., they're dropped from the data). These records are\n",
      "    usually so comprimised as to be uncleanable anyway.\n",
      "\n",
      "    This function has (is) a side effect on the `outpath` file, to which it\n",
      "    writes output.\n",
      "    '''\n",
      "\n",
      "    inf = open(inpath, 'r')\n",
      "    outf = open(outpath, 'w')\n",
      "\n",
      "    for line in inf:\n",
      "        splitline = line.split('\\t')\n",
      "        # Skip short lines, which are dirty beyond repair, anyway.\n",
      "        if len(splitline) < 6:\n",
      "            continue\n",
      "\n",
      "        newline = ('\\t').join(splitline[ :6])\n",
      "        # Records that have been truncated won't end in a newline character\n",
      "        # so add one.\n",
      "        if newline[-1: ] != '\\n':\n",
      "            newline += '\\n'       \n",
      "\n",
      "        outf.write(newline)\n",
      "\n",
      "    inf.close()\n",
      "    outf.close()"
     ],
     "language": "python",
     "metadata": {},
     "outputs": [],
     "prompt_number": 4
    },
    {
     "cell_type": "markdown",
     "metadata": {},
     "source": [
      "####Run the data cleaning function to create the cleaned file. No need to do this more than once"
     ]
    },
    {
     "cell_type": "code",
     "collapsed": false,
     "input": [
      "ufotab_to_sixcols(inpath, outpath)"
     ],
     "language": "python",
     "metadata": {},
     "outputs": [],
     "prompt_number": 5
    },
    {
     "cell_type": "markdown",
     "metadata": {},
     "source": [
      "####With the new clean file, we can use Pandas' to import the data"
     ]
    },
    {
     "cell_type": "code",
     "collapsed": false,
     "input": [
      "ufo = read_table(outpath, sep = '\\t', na_values = '',\n",
      "                 header = None, names = ['date_occurred',\n",
      "                                         'date_reported',\n",
      "                                         'location',\n",
      "                                         'short_desc',\n",
      "                                         'duration',\n",
      "                                         'long_desc'])"
     ],
     "language": "python",
     "metadata": {},
     "outputs": [],
     "prompt_number": 6
    },
    {
     "cell_type": "markdown",
     "metadata": {},
     "source": [
      "####Print the beginning of the data; compare to table on p. 14"
     ]
    },
    {
     "cell_type": "code",
     "collapsed": false,
     "input": [
      "print ufo.head(6).to_string(formatters = {'long_desc' : lambda x : x[ :21]})"
     ],
     "language": "python",
     "metadata": {},
     "outputs": [
      {
       "output_type": "stream",
       "stream": "stdout",
       "text": [
        "   date_occurred  date_reported               location short_desc duration              long_desc\n",
        "0       19951009       19951009          Iowa City, IA        NaN      NaN  Man repts. witnessing\n",
        "1       19951010       19951011          Milwaukee, WI        NaN   2 min.  Man  on Hwy 43 SW of \n",
        "2       19950101       19950103            Shelton, WA        NaN      NaN  Telephoned Report:CA \n",
        "3       19950510       19950510           Columbia, MO        NaN   2 min.  Man repts. son&apos;s\n",
        "4       19950611       19950614            Seattle, WA        NaN      NaN  Anonymous caller rept\n",
        "5       19951025       19951024   Brunswick County, ND        NaN  30 min.  Sheriff&apos;s office\n"
       ]
      }
     ],
     "prompt_number": 7
    },
    {
     "cell_type": "markdown",
     "metadata": {},
     "source": [
      "####Converting and cleaning up date data"
     ]
    },
    {
     "cell_type": "code",
     "collapsed": false,
     "input": [
      "# Unlike the R import, Pandas' read_table pulled the dates in as integers\n",
      "# in YYYYMMDD format. We'll use the function below and map() it to the\n",
      "# date columns in the data.\n",
      "\n",
      "def ymd_convert(x):\n",
      "    '''\n",
      "    Convert dates in the imported UFO data.\n",
      "    Clean entries will look like YYYMMDD. If they're not clean, return NA.\n",
      "    '''\n",
      "    try:\n",
      "        cnv_dt = dt.datetime.strptime(str(x), '%Y%m%d')\n",
      "    except ValueError:\n",
      "        cnv_dt = np.nan\n",
      "        \n",
      "    return cnv_dt\n",
      "\n",
      "ufo['date_occurred'] = ufo['date_occurred'].map(ymd_convert)\n",
      "ufo['date_reported'] = ufo['date_reported'].map(ymd_convert)"
     ],
     "language": "python",
     "metadata": {},
     "outputs": [],
     "prompt_number": 8
    },
    {
     "cell_type": "markdown",
     "metadata": {},
     "source": [
      "####Get rid of the rows that couldn't be conformed to datetime"
     ]
    },
    {
     "cell_type": "code",
     "collapsed": false,
     "input": [
      "ufo = ufo[(notnull(ufo['date_reported'])) & (notnull(ufo['date_occurred']))]"
     ],
     "language": "python",
     "metadata": {},
     "outputs": [],
     "prompt_number": 9
    },
    {
     "cell_type": "markdown",
     "metadata": {},
     "source": [
      "####Organizing location data"
     ]
    },
    {
     "cell_type": "code",
     "collapsed": false,
     "input": [
      "# Note on p. 16 the authors claim strsplit() throws an error if there is no\n",
      "# comma in the entry. This doesn't appear to be true.\n",
      "\n",
      "def get_location(l):\n",
      "    '''\n",
      "    Divide the `location` variable in the data into two new variables.\n",
      "    The first is the city, the second the state (or province). The function\n",
      "    returns a two-element list of the form [city, state].\n",
      "\n",
      "    This function is a fairly direct translation of the one in the text.\n",
      "    But, by assuming legitimate U.S. locations have only one comma in them\n",
      "    (e.g. `Baltimore, MD`), the authors miss a number of data points where\n",
      "    the `city` entry has a detailed description with several commas: e.g.,\n",
      "    `Baltimore, near U.S. Rte 59, MD`.\n",
      "    '''\n",
      "    split_location = l.split(',')\n",
      "    clean_location = [x.strip() for x in split_location]\n",
      "    if len(split_location) != 2:\n",
      "        clean_location = ['', '']\n",
      "\n",
      "    return clean_location"
     ],
     "language": "python",
     "metadata": {},
     "outputs": [],
     "prompt_number": 10
    },
    {
     "cell_type": "code",
     "collapsed": false,
     "input": [
      "# As an alternative to the one-comma method for finding U.S. locations,\n",
      "# we try using a regular expression that looks for entries that end in a\n",
      "# comma and two letters (e.g., `, MD`) after stripping extra white space.\n",
      "\n",
      "# Since the regexp is going to be mapped along a Series of data, we'll \n",
      "# compile it first.\n",
      "us_state_pattern = re.compile(', [A-Z][A-Z]$', re.IGNORECASE)"
     ],
     "language": "python",
     "metadata": {},
     "outputs": [],
     "prompt_number": 11
    },
    {
     "cell_type": "code",
     "collapsed": false,
     "input": [
      "def get_location2(l):\n",
      "    '''\n",
      "    Divide the `location` variable in the data into two new variables.\n",
      "    The first is the city, the second the state (or province). The function\n",
      "    returns a two-element list of the form [city, state].\n",
      "\n",
      "    This function assumes legitimate U.S. locations have location data\n",
      "    that end in a comma plus the two-letter state abbreviation. It will\n",
      "    miss any rows where, for instance, the state is spelled out.\n",
      "\n",
      "    Note that the regexp pattern `us_state_pattern` is defined outside\n",
      "    the function, and not called as an extra argument. (Since this\n",
      "    function will be used with Pandas' map(), it's more convenient to\n",
      "    define it with a single argument.\n",
      "    '''\n",
      "    strip_location = l.strip()\n",
      "    us_state_search = us_state_pattern.search(strip_location)\n",
      "    if us_state_search == None:\n",
      "        clean_location = ['', '']\n",
      "    else: \n",
      "        us_city = strip_location[ :us_state_search.start()]\n",
      "        us_state = strip_location[us_state_search.start() + 2: ]\n",
      "        clean_location = [us_city, us_state]\n",
      "    return clean_location"
     ],
     "language": "python",
     "metadata": {},
     "outputs": [],
     "prompt_number": 12
    },
    {
     "cell_type": "markdown",
     "metadata": {},
     "source": [
      "####Get a series of [city, state] lists, then unpack them into new variables in the data frame"
     ]
    },
    {
     "cell_type": "code",
     "collapsed": false,
     "input": [
      "location_lists = ufo['location'].map(get_location2)\n",
      "ufo['us_city'] = [city for city, st in location_lists]\n",
      "ufo['us_state'] = [st.lower() for city, st in location_lists]"
     ],
     "language": "python",
     "metadata": {},
     "outputs": [],
     "prompt_number": 13
    },
    {
     "cell_type": "markdown",
     "metadata": {},
     "source": [
      "####State list from p. 18. Note they forget DC. There seem to be 12 DC entries"
     ]
    },
    {
     "cell_type": "code",
     "collapsed": false,
     "input": [
      "us_states = ['ak', 'al', 'ar', 'az', 'ca', 'co', 'ct', 'dc', 'de', 'fl',\n",
      "             'ga', 'hi', 'ia', 'id', 'il', 'in', 'ks', 'ky', 'la', 'ma',\n",
      "             'md', 'me', 'mi', 'mn', 'mo', 'ms', 'mt', 'nc', 'nd', 'ne',\n",
      "             'nh', 'nj', 'nm', 'nv', 'ny', 'oh', 'ok', 'or', 'pa', 'ri',\n",
      "             'sc', 'sd', 'tn', 'tx', 'ut', 'va', 'vt', 'wa', 'wi', 'wv',\n",
      "             'wy']"
     ],
     "language": "python",
     "metadata": {},
     "outputs": [],
     "prompt_number": 14
    },
    {
     "cell_type": "code",
     "collapsed": false,
     "input": [
      "# If the `us_state` variable doesn't match the states in the list, set it to\n",
      "# a missing string. Then nix the rows without valid U.S. states.\n",
      "ufo['us_state'][-np.in1d(ufo['us_state'].tolist(), us_states)] = ''\n",
      "ufo['us_city'][-np.in1d(ufo['us_state'].tolist(), us_states)] = ''\n",
      "\n",
      "ufo_us = ufo[ufo['us_state'] != '']"
     ],
     "language": "python",
     "metadata": {},
     "outputs": [],
     "prompt_number": 15
    },
    {
     "cell_type": "code",
     "collapsed": false,
     "input": [
      "# Get a data Series of years in the data. Note that Pandas' describe()\n",
      "# won't give quantiles of the datetime objects in the date variables.\n",
      "# (it requires interpolating between dates, which is tricky with\n",
      "# datetimes. We can call describe() on the years to get quantiles, though\n",
      "# since they're just integers.\n",
      "years = ufo_us['date_occurred'].map(lambda x: x.year)\n",
      "years.describe()"
     ],
     "language": "python",
     "metadata": {},
     "outputs": [
      {
       "output_type": "pyout",
       "prompt_number": 16,
       "text": [
        "count    52134.000000\n",
        "mean      2000.572237\n",
        "std         10.889045\n",
        "min       1400.000000\n",
        "25%       1999.000000\n",
        "50%       2003.000000\n",
        "75%       2007.000000\n",
        "max       2010.000000"
       ]
      }
     ],
     "prompt_number": 16
    },
    {
     "cell_type": "markdown",
     "metadata": {},
     "source": [
      "####Plot distribution of sigthings over time and subset to recent sigthings"
     ]
    },
    {
     "cell_type": "code",
     "collapsed": false,
     "input": [
      "# Figure 1-5 of the text. Note it's over years, and not the original\n",
      "# `date_occured` variable. Matplotlib apparently can't draw histograms\n",
      "# of datetimes.\n",
      "plt.figure()\n",
      "years.hist(bins = (years.max() - years.min())/30., fc = 'steelblue')\n",
      "plt.title('Histogram of years with U.S. UFO sightings\\nAll years in data')"
     ],
     "language": "python",
     "metadata": {},
     "outputs": [
      {
       "output_type": "pyout",
       "prompt_number": 17,
       "text": [
        "<matplotlib.text.Text at 0x10c7da210>"
       ]
      },
      {
       "output_type": "display_data",
       "png": "[encoded data removed]"
      }
     ],
     "prompt_number": 17
    },
    {
     "cell_type": "markdown",
     "metadata": {},
     "source": [
      "####Restrict the dates in the data to 1990 and after"
     ]
    },
    {
     "cell_type": "code",
     "collapsed": false,
     "input": [
      "ufo_us = ufo_us[ufo_us['date_occurred'] >= dt.datetime(1990, 1, 1)]"
     ],
     "language": "python",
     "metadata": {},
     "outputs": [],
     "prompt_number": 18
    },
    {
     "cell_type": "code",
     "collapsed": false,
     "input": [
      "years_post90 = ufo_us['date_occurred'].map(lambda x: x.year)"
     ],
     "language": "python",
     "metadata": {},
     "outputs": [],
     "prompt_number": 19
    },
    {
     "cell_type": "markdown",
     "metadata": {},
     "source": [
      "####How much data do we have now, compare to p. 22 of the text"
     ]
    },
    {
     "cell_type": "code",
     "collapsed": false,
     "input": [
      "ufo_us.shape"
     ],
     "language": "python",
     "metadata": {},
     "outputs": [
      {
       "output_type": "pyout",
       "prompt_number": 20,
       "text": [
        "(46780, 8)"
       ]
      }
     ],
     "prompt_number": 20
    },
    {
     "cell_type": "markdown",
     "metadata": {},
     "source": [
      "####Check how many sightings we saved with the regex version of the location-cleaning function\n"
     ]
    },
    {
     "cell_type": "code",
     "collapsed": false,
     "input": [
      "city_commas = ufo['us_city'].map(lambda x: x.count(','))\n",
      "print 'Cities with commas = ', sum(city_commas > 0)"
     ],
     "language": "python",
     "metadata": {},
     "outputs": [
      {
       "output_type": "stream",
       "stream": "stdout",
       "text": [
        "Cities with commas =  482\n"
       ]
      }
     ],
     "prompt_number": 21
    },
    {
     "cell_type": "code",
     "collapsed": false,
     "input": [
      "# Figure 1-6 in the text.\n",
      "plt.figure()\n",
      "years_post90.hist(bins = 20, fc = 'steelblue')\n",
      "plt.title('Histogram of years with U.S. UFO sightings\\n1990 through 2010')"
     ],
     "language": "python",
     "metadata": {},
     "outputs": [
      {
       "output_type": "pyout",
       "prompt_number": 22,
       "text": [
        "<matplotlib.text.Text at 0x10c9a5710>"
       ]
      },
      {
       "output_type": "display_data",
       "png": "[encoded data removed]"
      }
     ],
     "prompt_number": 22
    },
    {
     "cell_type": "code",
     "collapsed": false,
     "input": [
      "# It's a little strange to histogram over dates. Let's just make a line\n",
      "# plot with the time series of no. of sigthings by date. Aggregated at the\n",
      "# national level, it looks like there's some seasonality in the data,\n",
      "# and a clear `millenium` effect.\n",
      "post90_count = ufo_us.groupby('date_occurred')['date_occurred'].count()\n",
      "plt.figure()\n",
      "post90_count.plot()\n",
      "plt.title('Number of U.S. UFO sightings\\nJanuary 1990 through August 2010')"
     ],
     "language": "python",
     "metadata": {},
     "outputs": [
      {
       "output_type": "pyout",
       "prompt_number": 23,
       "text": [
        "<matplotlib.text.Text at 0x10d229b50>"
       ]
      },
      {
       "output_type": "display_data",
       "png": "[encoded data removed]"
      }
     ],
     "prompt_number": 23
    },
    {
     "cell_type": "markdown",
     "metadata": {},
     "source": [
      "####Get monthly sightings by state"
     ]
    },
    {
     "cell_type": "code",
     "collapsed": false,
     "input": [
      "# Aggregate data to the state/month level with Pandas' groupby() method.\n",
      "ufo_us['year_month'] = ufo_us['date_occurred'].map(lambda x:\n",
      "                                                   dt.date(x.year, x.month, 1))\n",
      "\n",
      "sightings_counts = ufo_us.groupby(['us_state',\n",
      "                                   'year_month'])['year_month'].count()"
     ],
     "language": "python",
     "metadata": {},
     "outputs": [],
     "prompt_number": 24
    },
    {
     "cell_type": "markdown",
     "metadata": {},
     "source": [
      "####Check out Alaska to compare with p. 22. Note we get an extra row, which results from the improved location cleaning"
     ]
    },
    {
     "cell_type": "code",
     "collapsed": false,
     "input": [
      "print 'First few AK sightings in data:'\n",
      "print sightings_counts.ix['ak'].head(6)\n",
      "\n",
      "print 'Extra AK sighting, no on p. 22:'\n",
      "print ufo_us[(ufo_us['us_state'] == 'ak') &\n",
      "             (ufo_us['year_month'] == dt.date(1994, 2, 1))] \\\n",
      "             [['year_month','location']]"
     ],
     "language": "python",
     "metadata": {},
     "outputs": [
      {
       "output_type": "stream",
       "stream": "stdout",
       "text": [
        "First few AK sightings in data:\n",
        "year_month\n",
        "1990-01-01    1\n",
        "1990-03-01    1\n",
        "1990-05-01    1\n",
        "1993-11-01    1\n",
        "1994-02-01    1\n",
        "1994-11-01    1\n",
        "Extra AK sighting, no on p. 22:\n",
        "      year_month                           location\n",
        "5508  1994-02-01   Savoonga,St. Lawrence Island, AK\n"
       ]
      }
     ],
     "prompt_number": 25
    },
    {
     "cell_type": "code",
     "collapsed": false,
     "input": [
      "# Since groupby drops state-month levels for which there are no sightings,\n",
      "# we'll create a 2-level MultiIndex with the full range of state-month pairs.\n",
      "# Then, we'll re-index the data, filling in 0's where data is missing.\n",
      "ym_list = [dt.date(y, m, 1) for y in range(1990, 2011)\n",
      "                            for m in range(1, 13)\n",
      "                            if dt.date(y, m, 1) <= dt.date(2010, 8, 1)]\n",
      "\n",
      "full_index = zip(np.sort(us_states * len(ym_list)), ym_list * len(us_states))\n",
      "full_index = MultiIndex.from_tuples(full_index, names =\n",
      "                                    ['states', 'year_month'])\n",
      "\n",
      "sightings_counts = sightings_counts.reindex(full_index, fill_value = 0)"
     ],
     "language": "python",
     "metadata": {},
     "outputs": [],
     "prompt_number": 26
    },
    {
     "cell_type": "markdown",
     "metadata": {},
     "source": [
      "####Plot monthly sightings by state in lattice/facet-wrap plot"
     ]
    },
    {
     "cell_type": "code",
     "collapsed": false,
     "input": [
      "# Subplot parameters. We set up a figures with MxN subplots, where MxN >= 51\n",
      "# (no. of states to plot). When MxN > 51, the `hangover` variable counts how\n",
      "# many extra subplot remain in the last row of figure. We'll need this to\n",
      "# to put tick labels in nice places.\n",
      "nrow = 13; ncol = 4; hangover = len(us_states) % ncol\n",
      "\n",
      "fig, axes = plt.subplots(nrow, ncol, sharey = True, figsize = (9, 11))\n",
      "\n",
      "fig.suptitle('Monthly UFO Sightings by U.S. State\\nJanuary 1990 through August 2010',\n",
      "             size = 12)\n",
      "plt.subplots_adjust(wspace = .05, hspace = .05)\n",
      "\n",
      "num_state = 0\n",
      "for i in range(nrow):\n",
      "    for j in range(ncol):\n",
      "        xs = axes[i, j]\n",
      "\n",
      "        xs.grid(linestyle = '-', linewidth = .25, color = 'gray')\n",
      "\n",
      "        if num_state < 51:\n",
      "            st = us_states[num_state]\n",
      "            sightings_counts.ix[st, ].plot(ax = xs, linewidth = .75)\n",
      "            xs.text(0.05, .95, st.upper(), transform = axes[i, j].transAxes, \n",
      "                    verticalalignment = 'top')\n",
      "            num_state += 1 \n",
      "        else:\n",
      "            # Make extra subplots invisible\n",
      "            plt.setp(xs, visible = False)\n",
      "            \n",
      "        xtl = xs.get_xticklabels()\n",
      "        ytl = xs.get_yticklabels()\n",
      "\n",
      "        # X-axis tick labels:\n",
      "        # Turn off tick labels for all the the bottom-most\n",
      "        # subplots. This includes the plots on the last row, and\n",
      "        # if the last row doesn't have a subplot in every column\n",
      "        # put tick labels on the next row up for those last\n",
      "        # columns.\n",
      "        #\n",
      "        # Y-axis tick labels:\n",
      "        # Put left-axis labels on the first column of subplots,\n",
      "        # odd rows. Put right-axis labels on the last column\n",
      "        # of subplots, even rows.\n",
      "        if i < nrow - 2 or (i < nrow - 1 and (hangover == 0 or\n",
      "                            j <= hangover - 1)):\n",
      "            plt.setp(xtl, visible = False)\n",
      "        if j > 0 or i % 2 == 1:\n",
      "            plt.setp(ytl, visible = False)\n",
      "        if j == ncol - 1 and i % 2 == 1:\n",
      "            xs.yaxis.tick_right()\n",
      "          \n",
      "        plt.setp(xtl, rotation=90.) \n",
      "    plt.savefig('ufo_ts_bystate.png', dpi = 300)"
     ],
     "language": "python",
     "metadata": {},
     "outputs": [
      {
       "output_type": "display_data",
       "png": "[encoded data removed]"
      }
     ],
     "prompt_number": 27
    }
   ],
   "metadata": {}
  }
 ]
}